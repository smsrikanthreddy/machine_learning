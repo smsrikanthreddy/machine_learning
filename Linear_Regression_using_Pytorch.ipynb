{
 "cells": [
  {
   "cell_type": "markdown",
   "id": "comic-reporter",
   "metadata": {},
   "source": [
    "To start, we'll develop a collection of data points that appear random, but that fit a known linear equation 𝑦=2𝑥+1"
   ]
  },
  {
   "cell_type": "markdown",
   "id": "fuzzy-southeast",
   "metadata": {},
   "source": [
    "### Load Libraries"
   ]
  },
  {
   "cell_type": "code",
   "execution_count": 1,
   "id": "informed-beads",
   "metadata": {},
   "outputs": [],
   "source": [
    "import torch\n",
    "import torch.nn as nn\n",
    "\n",
    "import numpy as np\n",
    "import matplotlib.pyplot as plt"
   ]
  },
  {
   "cell_type": "markdown",
   "id": "public-dealing",
   "metadata": {},
   "source": [
    "### Create a column matrix of X values\n",
    "We can create tensors right away rather than convert from NumPy arrays."
   ]
  },
  {
   "cell_type": "code",
   "execution_count": 4,
   "id": "cognitive-receiver",
   "metadata": {},
   "outputs": [],
   "source": [
    "X = torch.linspace(1, 50, 50).reshape(-1, 1)\n",
    "# Equivalent to\n",
    "X = torch.unsqueeze(torch.linspace(1,50,50), dim=1)\n",
    "#X"
   ]
  },
  {
   "cell_type": "markdown",
   "id": "demographic-commitment",
   "metadata": {},
   "source": [
    "### Create a \"random\" array of error values\n",
    "We want 50 random integer values that collectively cancel each other out."
   ]
  },
  {
   "cell_type": "code",
   "execution_count": 5,
   "id": "convinced-angola",
   "metadata": {},
   "outputs": [
    {
     "name": "stdout",
     "output_type": "stream",
     "text": [
      "tensor(0.)\n"
     ]
    }
   ],
   "source": [
    "torch.manual_seed(71)\n",
    "e = torch.randint(-8, 9, (50, 1), dtype=torch.float)\n",
    "print(e.sum())"
   ]
  },
  {
   "cell_type": "markdown",
   "id": "middle-habitat",
   "metadata": {},
   "source": [
    "### Create a column matrix of y values\n",
    "Here we'll set our own parameters of $\\mathrm {weight} = 2,\\; \\mathrm {bias} = 1$, plus the error amount.<br><strong><tt>y</tt></strong> will have the same shape as <strong><tt>X</tt></strong> and <strong><tt>e</tt></strong>"
   ]
  },
  {
   "cell_type": "code",
   "execution_count": 8,
   "id": "literary-occasion",
   "metadata": {},
   "outputs": [
    {
     "name": "stdout",
     "output_type": "stream",
     "text": [
      "torch.Size([50, 1])\n"
     ]
    }
   ],
   "source": [
    "y = 2*X + 1 + e\n",
    "print(y.shape)"
   ]
  },
  {
   "cell_type": "markdown",
   "id": "about-position",
   "metadata": {},
   "source": [
    "### Plot the results\n",
    "We have to convert tensors to NumPy arrays just for plotting."
   ]
  },
  {
   "cell_type": "code",
   "execution_count": 9,
   "id": "engaging-finish",
   "metadata": {},
   "outputs": [
    {
     "data": {
      "image/png": "[encoded data removed]",
      "text/plain": [
       "<Figure size 432x288 with 1 Axes>"
      ]
     },
     "metadata": {
      "needs_background": "light"
     },
     "output_type": "display_data"
    }
   ],
   "source": [
    "plt.scatter(X.numpy(), y.numpy())\n",
    "plt.ylabel('y')\n",
    "plt.xlabel('x');"
   ]
  },
  {
   "cell_type": "markdown",
   "id": "swedish-yugoslavia",
   "metadata": {},
   "source": [
    "Note that when we created tensor $X$, we did <em>not</em> pass <tt>requires_grad=True</tt>. This means that $y$ doesn't have a gradient function, and <tt>y.backward()</tt> won't work. Since PyTorch is not tracking operations, it doesn't know the relationship between $X$ and $y$."
   ]
  },
  {
   "cell_type": "markdown",
   "id": "modern-baltimore",
   "metadata": {},
   "source": [
    "### Simple linear model\n",
    "As a quick demonstration we'll show how the built-in <tt>nn.Linear()</tt> model preselects weight and bias values at random."
   ]
  },
  {
   "cell_type": "code",
   "execution_count": 10,
   "id": "legitimate-green",
   "metadata": {},
   "outputs": [
    {
     "name": "stdout",
     "output_type": "stream",
     "text": [
      "Parameter containing:\n",
      "tensor([[0.1060]], requires_grad=True)\n",
      "Parameter containing:\n",
      "tensor([0.9638], requires_grad=True)\n"
     ]
    }
   ],
   "source": [
    "torch.manual_seed(59)\n",
    "\n",
    "model = nn.Linear(in_features=1, out_features=1)\n",
    "print(model.weight)\n",
    "print(model.bias)"
   ]
  },
  {
   "cell_type": "markdown",
   "id": "psychological-mexico",
   "metadata": {},
   "source": [
    "Without seeing any data, the model sets a random weight of 0.1060 and a bias of 0.9638."
   ]
  },
  {
   "cell_type": "markdown",
   "id": "covered-exhaust",
   "metadata": {},
   "source": [
    "## Model classes\n",
    "PyTorch lets us define models as object classes that can store multiple model layers. In upcoming sections we'll set up several neural network layers, and determine how each layer should perform its forward pass to the next layer. For now, though, we only need a single <tt>linear</tt> layer."
   ]
  },
  {
   "cell_type": "code",
   "execution_count": 11,
   "id": "structural-climb",
   "metadata": {},
   "outputs": [],
   "source": [
    "class Model(nn.Module):\n",
    "    def __init__(self, in_features, out_features):\n",
    "        super().__init__()\n",
    "        self.linear = nn.Linear(in_features, out_features)\n",
    "    def forward(self, x):\n",
    "        y_pred = self.linear(x)\n",
    "        return y_pred"
   ]
  },
  {
   "cell_type": "markdown",
   "id": "crude-disclosure",
   "metadata": {},
   "source": [
    "<div class=\"alert alert-info\"><strong>NOTE:</strong> The \"Linear\" model layer used here doesn't really refer to linear regression. Instead, it describes the type of neural network layer employed. Linear layers are also called \"fully connected\" or \"dense\" layers. Going forward our models may contain linear layers, convolutional layers, and more.</div>"
   ]
  },
  {
   "cell_type": "markdown",
   "id": "unusual-spotlight",
   "metadata": {},
   "source": [
    "When <tt>Model</tt> is instantiated, we need to pass in the size (dimensions) of the incoming and outgoing features. For our purposes we'll use (1,1).<br>As above, we can see the initial hyperparameters."
   ]
  },
  {
   "cell_type": "code",
   "execution_count": 12,
   "id": "imposed-spirituality",
   "metadata": {},
   "outputs": [
    {
     "name": "stdout",
     "output_type": "stream",
     "text": [
      "Model(\n",
      "  (linear): Linear(in_features=1, out_features=1, bias=True)\n",
      ")\n",
      "model weights :- 0.10597813129425049\n",
      "model bias :- 0.9637961387634277\n"
     ]
    }
   ],
   "source": [
    "torch.manual_seed(59)\n",
    "model = Model(1, 1)\n",
    "print(model)\n",
    "print(f'model weights :- {model.linear.weight.item()}')\n",
    "print(f'model bias :- {model.linear.bias.item()}')"
   ]
  },
  {
   "cell_type": "code",
   "execution_count": 15,
   "id": "micro-matrix",
   "metadata": {},
   "outputs": [
    {
     "name": "stdout",
     "output_type": "stream",
     "text": [
      "linear.weight \t 0.10597813129425049\n",
      "linear.bias \t 0.9637961387634277\n"
     ]
    }
   ],
   "source": [
    "for name, parameters in model.named_parameters():\n",
    "    print(name, \"\\t\", parameters.item())"
   ]
  },
  {
   "cell_type": "markdown",
   "id": "pretty-anxiety",
   "metadata": {},
   "source": [
    "<div class=\"alert alert-info\"><strong>NOTE:</strong> In the above example we had our Model class accept arguments for the number of input and output features.<br>For simplicity we can hardcode them into the Model:\n",
    "         \n",
    "<tt><font color=black>\n",
    "class Model(torch.nn.Module):<br>\n",
    "&nbsp;&nbsp;&nbsp;&nbsp;def \\_\\_init\\_\\_(self):<br>\n",
    "&nbsp;&nbsp;&nbsp;&nbsp;&nbsp;&nbsp;&nbsp;&nbsp;super().\\_\\_init\\_\\_()<br>\n",
    "&nbsp;&nbsp;&nbsp;&nbsp;&nbsp;&nbsp;&nbsp;&nbsp;self.linear = Linear(1,1)<br><br>\n",
    "model = Model()\n",
    "</font></tt><br><br>\n",
    "\n",
    "Alternatively we can use default arguments:\n",
    "\n",
    "<tt><font color=black>\n",
    "class Model(torch.nn.Module):<br>\n",
    "&nbsp;&nbsp;&nbsp;&nbsp;def \\_\\_init\\_\\_(self, in_dim=1, out_dim=1):<br>\n",
    "&nbsp;&nbsp;&nbsp;&nbsp;&nbsp;&nbsp;&nbsp;&nbsp;super().\\_\\_init\\_\\_()<br>\n",
    "&nbsp;&nbsp;&nbsp;&nbsp;&nbsp;&nbsp;&nbsp;&nbsp;self.linear = Linear(in_dim,out_dim)<br><br>\n",
    "model = Model()<br>\n",
    "<em>\\# or</em><br>\n",
    "model = Model(i,o)</font></tt>\n",
    "</div>"
   ]
  },
  {
   "cell_type": "code",
   "execution_count": 17,
   "id": "broad-transparency",
   "metadata": {},
   "outputs": [
    {
     "name": "stdout",
     "output_type": "stream",
     "text": [
      "tensor([1.1758], grad_fn=<AddBackward0>)\n"
     ]
    }
   ],
   "source": [
    "x = torch.tensor([2.0])\n",
    "print(model.forward(x))   # equivalent to print(model(x))"
   ]
  },
  {
   "cell_type": "markdown",
   "id": "further-recovery",
   "metadata": {},
   "source": [
    "which is confirmed with $f(x) = (0.1060)(2.0)+(0.9638) = 1.1758$"
   ]
  },
  {
   "cell_type": "markdown",
   "id": "unlimited-conservation",
   "metadata": {},
   "source": [
    "### Plot the initial model\n",
    "We can plot the untrained model against our dataset to get an idea of our starting point"
   ]
  },
  {
   "cell_type": "code",
   "execution_count": 18,
   "id": "wrapped-making",
   "metadata": {},
   "outputs": [
    {
     "name": "stdout",
     "output_type": "stream",
     "text": [
      "[ 1. 50.]\n"
     ]
    }
   ],
   "source": [
    "x1 = np.array([X.min(),X.max()])\n",
    "print(x1)"
   ]
  },
  {
   "cell_type": "code",
   "execution_count": 20,
   "id": "progressive-caution",
   "metadata": {},
   "outputs": [
    {
     "name": "stdout",
     "output_type": "stream",
     "text": [
      "Initial weight: 0.10597813, Initial bias: 0.96379614\n",
      "\n",
      "[1.0697743 6.2627025]\n"
     ]
    }
   ],
   "source": [
    "w1, b1 = model.linear.weight.item(), model.linear.bias.item()\n",
    "print(f'Initial weight: {w1:.8f}, Initial bias: {b1:.8f}')\n",
    "print()\n",
    "\n",
    "y1 = x1*w1 + b1\n",
    "print(y1)"
   ]
  },
  {
   "cell_type": "code",
   "execution_count": 21,
   "id": "agreed-mainstream",
   "metadata": {},
   "outputs": [
    {
     "data": {
      "image/png": "[encoded data removed]",
      "text/plain": [
       "<Figure size 432x288 with 1 Axes>"
      ]
     },
     "metadata": {
      "needs_background": "light"
     },
     "output_type": "display_data"
    }
   ],
   "source": [
    "plt.scatter(X.numpy(), y.numpy())\n",
    "plt.plot(x1,y1,'r')\n",
    "plt.title('Initial Model')\n",
    "plt.ylabel('y')\n",
    "plt.xlabel('x');"
   ]
  },
  {
   "cell_type": "markdown",
   "id": "conservative-albert",
   "metadata": {},
   "source": [
    "## Set the loss function\n",
    "We could write our own function to apply a Mean Squared Error (MSE) that follows<br>\n",
    "\n",
    "$\\begin{split}MSE &= \\frac {1} {n} \\sum_{i=1}^n {(y_i - \\hat y_i)}^2 \\\\\n",
    "&= \\frac {1} {n} \\sum_{i=1}^n {(y_i - (wx_i + b))}^2\\end{split}$<br>\n",
    "\n",
    "Fortunately PyTorch has it built in.<br>\n",
    "<em>By convention, you'll see the variable name \"criterion\" used, but feel free to use something like \"linear_loss_func\" if that's clearer.</em>"
   ]
  },
  {
   "cell_type": "code",
   "execution_count": 23,
   "id": "personal-jewel",
   "metadata": {},
   "outputs": [],
   "source": [
    "criterion = nn.MSELoss()"
   ]
  },
  {
   "cell_type": "code",
   "execution_count": 24,
   "id": "novel-lounge",
   "metadata": {},
   "outputs": [],
   "source": [
    "optimizer = torch.optim.SGD(model.parameters(), lr=0.001)"
   ]
  },
  {
   "cell_type": "markdown",
   "id": "consecutive-fight",
   "metadata": {},
   "source": [
    "### Train the model"
   ]
  },
  {
   "cell_type": "code",
   "execution_count": 25,
   "id": "olive-cigarette",
   "metadata": {},
   "outputs": [
    {
     "name": "stdout",
     "output_type": "stream",
     "text": [
      "epoch:  0  loss: 3057.21679688  weight: 0.10597813  bias: 0.96379614\n",
      "epoch:  1  loss: 1588.53100586  weight: 3.33490038  bias: 1.06046367\n",
      "epoch:  2  loss: 830.30010986  weight: 1.01483274  bias: 0.99226278\n",
      "epoch:  3  loss: 438.85241699  weight: 2.68179965  bias: 1.04252183\n",
      "epoch:  4  loss: 236.76152039  weight: 1.48402119  bias: 1.00766504\n",
      "epoch:  5  loss: 132.42912292  weight: 2.34460592  bias: 1.03396463\n",
      "epoch:  6  loss: 78.56572723  weight: 1.72622538  bias: 1.01632178\n",
      "epoch:  7  loss: 50.75775909  weight: 2.17050409  bias: 1.03025162\n",
      "epoch:  8  loss: 36.40123367  weight: 1.85124576  bias: 1.02149546\n",
      "epoch:  9  loss: 28.98922729  weight: 2.08060074  bias: 1.02903891\n",
      "epoch: 10  loss: 25.16238213  weight: 1.91576838  bias: 1.02487016\n",
      "epoch: 11  loss: 23.18647385  weight: 2.03416562  bias: 1.02911627\n",
      "epoch: 12  loss: 22.16612816  weight: 1.94905841  bias: 1.02731562\n",
      "epoch: 13  loss: 21.63911057  weight: 2.01017213  bias: 1.02985907\n",
      "epoch: 14  loss: 21.36677170  weight: 1.96622372  bias: 1.02928054\n",
      "epoch: 15  loss: 21.22591782  weight: 1.99776423  bias: 1.03094459\n",
      "epoch: 16  loss: 21.15294647  weight: 1.97506487  bias: 1.03099668\n",
      "epoch: 17  loss: 21.11501122  weight: 1.99133754  bias: 1.03220642\n",
      "epoch: 18  loss: 21.09517670  weight: 1.97960854  bias: 1.03258383\n",
      "epoch: 19  loss: 21.08468437  weight: 1.98799884  bias: 1.03355861\n",
      "epoch: 20  loss: 21.07901382  weight: 1.98193336  bias: 1.03410351\n",
      "epoch: 21  loss: 21.07583046  weight: 1.98625445  bias: 1.03495669\n",
      "epoch: 22  loss: 21.07393837  weight: 1.98311269  bias: 1.03558779\n",
      "epoch: 23  loss: 21.07269859  weight: 1.98533309  bias: 1.03637791\n",
      "epoch: 24  loss: 21.07181931  weight: 1.98370099  bias: 1.03705311\n",
      "epoch: 25  loss: 21.07110596  weight: 1.98483658  bias: 1.03781021\n",
      "epoch: 26  loss: 21.07048416  weight: 1.98398376  bias: 1.03850794\n",
      "epoch: 27  loss: 21.06991386  weight: 1.98455977  bias: 1.03924775\n",
      "epoch: 28  loss: 21.06936646  weight: 1.98410904  bias: 1.03995669\n",
      "epoch: 29  loss: 21.06883621  weight: 1.98439610  bias: 1.04068720\n",
      "epoch: 30  loss: 21.06830788  weight: 1.98415291  bias: 1.04140162\n",
      "epoch: 31  loss: 21.06778145  weight: 1.98429084  bias: 1.04212701\n",
      "epoch: 32  loss: 21.06726265  weight: 1.98415494  bias: 1.04284394\n",
      "epoch: 33  loss: 21.06674004  weight: 1.98421574  bias: 1.04356635\n",
      "epoch: 34  loss: 21.06622314  weight: 1.98413551  bias: 1.04428422\n",
      "epoch: 35  loss: 21.06570625  weight: 1.98415649  bias: 1.04500473\n",
      "epoch: 36  loss: 21.06518936  weight: 1.98410451  bias: 1.04572272\n",
      "epoch: 37  loss: 21.06466866  weight: 1.98410523  bias: 1.04644191\n",
      "epoch: 38  loss: 21.06415749  weight: 1.98406804  bias: 1.04715967\n",
      "epoch: 39  loss: 21.06363869  weight: 1.98405814  bias: 1.04787791\n",
      "epoch: 40  loss: 21.06312370  weight: 1.98402870  bias: 1.04859519\n",
      "epoch: 41  loss: 21.06260681  weight: 1.98401320  bias: 1.04931259\n",
      "epoch: 42  loss: 21.06209564  weight: 1.98398757  bias: 1.05002928\n",
      "epoch: 43  loss: 21.06157875  weight: 1.98396957  bias: 1.05074584\n",
      "epoch: 44  loss: 21.06106949  weight: 1.98394585  bias: 1.05146194\n",
      "epoch: 45  loss: 21.06055450  weight: 1.98392630  bias: 1.05217779\n",
      "epoch: 46  loss: 21.06004143  weight: 1.98390377  bias: 1.05289316\n",
      "epoch: 47  loss: 21.05953217  weight: 1.98388338  bias: 1.05360830\n",
      "epoch: 48  loss: 21.05901527  weight: 1.98386145  bias: 1.05432308\n",
      "epoch: 49  loss: 21.05850983  weight: 1.98384094  bias: 1.05503750\n"
     ]
    }
   ],
   "source": [
    "epochs = 50\n",
    "losses = []\n",
    "\n",
    "for i in range(epochs):\n",
    "    #i+=1\n",
    "    y_pred = model.forward(X)\n",
    "    loss = criterion(y_pred, y)\n",
    "    losses.append(loss)\n",
    "    print(f'epoch: {i:2}  loss: {loss.item():10.8f}  weight: {model.linear.weight.item():10.8f}  \\\n",
    "bias: {model.linear.bias.item():10.8f}') \n",
    "    optimizer.zero_grad()\n",
    "    loss.backward()\n",
    "    optimizer.step()"
   ]
  },
  {
   "cell_type": "code",
   "execution_count": 27,
   "id": "handmade-buddy",
   "metadata": {},
   "outputs": [
    {
     "data": {
      "image/png": "[encoded data removed]",
      "text/plain": [
       "<Figure size 432x288 with 1 Axes>"
      ]
     },
     "metadata": {
      "needs_background": "light"
     },
     "output_type": "display_data"
    }
   ],
   "source": [
    "plt.plot(range(epochs), losses)\n",
    "plt.ylabel('Loss')\n",
    "plt.xlabel('epoch');"
   ]
  },
  {
   "cell_type": "code",
   "execution_count": 28,
   "id": "scenic-catch",
   "metadata": {},
   "outputs": [
    {
     "name": "stdout",
     "output_type": "stream",
     "text": [
      "Current weight: 1.98381913, Current bias: 1.05575156\n",
      "\n",
      "[ 1. 50.]\n",
      "[  3.0395708 100.246704 ]\n"
     ]
    }
   ],
   "source": [
    "w1,b1 = model.linear.weight.item(), model.linear.bias.item()\n",
    "print(f'Current weight: {w1:.8f}, Current bias: {b1:.8f}')\n",
    "print()\n",
    "\n",
    "y1 = x1*w1 + b1\n",
    "print(x1)\n",
    "print(y1)"
   ]
  },
  {
   "cell_type": "code",
   "execution_count": 29,
   "id": "arabic-understanding",
   "metadata": {},
   "outputs": [
    {
     "data": {
      "image/png": "[encoded data removed]",
      "text/plain": [
       "<Figure size 432x288 with 1 Axes>"
      ]
     },
     "metadata": {
      "needs_background": "light"
     },
     "output_type": "display_data"
    }
   ],
   "source": [
    "plt.scatter(X.numpy(), y.numpy())\n",
    "plt.plot(x1,y1,'r')\n",
    "plt.title('Current Model')\n",
    "plt.ylabel('y')\n",
    "plt.xlabel('x');"
   ]
  },
  {
   "cell_type": "code",
   "execution_count": null,
   "id": "thorough-remove",
   "metadata": {},
   "outputs": [],
   "source": []
  }
 ],
 "metadata": {
  "kernelspec": {
   "display_name": "pytorchenv",
   "language": "python",
   "name": "pytorchenv"
  },
  "language_info": {
   "codemirror_mode": {
    "name": "ipython",
    "version": 3
   },
   "file_extension": ".py",
   "mimetype": "text/x-python",
   "name": "python",
   "nbconvert_exporter": "python",
   "pygments_lexer": "ipython3",
   "version": "3.7.3"
  }
 },
 "nbformat": 4,
 "nbformat_minor": 5
}
