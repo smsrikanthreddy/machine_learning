{
 "cells": [
  {
   "cell_type": "markdown",
   "id": "impressed-document",
   "metadata": {},
   "source": [
    "### Supervised Learning"
   ]
  },
  {
   "cell_type": "markdown",
   "id": "german-turning",
   "metadata": {},
   "source": [
    "Supervised Learning is a technique in which it has true label data for each of input data. Supervised learning predictions can be validated against the actual values/ground truth to find the best possible weights"
   ]
  },
  {
   "cell_type": "markdown",
   "id": "colored-xerox",
   "metadata": {},
   "source": [
    "Let’s start by talking about a few examples of supervised learning problems.\n",
    "Suppose we have a dataset giving the living areas and prices of 47 houses\n",
    "from Portland, Oregon\n",
    "\n",
    "| Living area (feet<sup>2</sup>)|Price(1000$s)|\n",
    "| ---| ---|\n",
    "| 2104 |400|\n",
    "|1600|330|\n",
    "|2400|369|\n",
    "|1416|232|\n",
    "|...|...|"
   ]
  },
  {
   "cell_type": "markdown",
   "id": "super-little",
   "metadata": {},
   "source": [
    "We can plot this data:\n",
    "![](my_icons/Supervised/housing.png)"
   ]
  },
  {
   "cell_type": "markdown",
   "id": "correct-genius",
   "metadata": {},
   "source": [
    "**Given data like this, how can we learn to predict the prices of other houses\n",
    "in Portland, as a function of the size of their living areas?**"
   ]
  },
  {
   "cell_type": "markdown",
   "id": "crude-mounting",
   "metadata": {},
   "source": [
    "**notations**"
   ]
  },
  {
   "cell_type": "markdown",
   "id": "expanded-concentration",
   "metadata": {},
   "source": [
    "- input variables/features :- $ x^i $ (living area in this example)\n",
    "- output variable/target   :- $ y^i $ (variable we are trying to predict)\n",
    "- pair/training example    :- $ (x^i,y^i) $\n",
    "- dataset                  :- $ (x^i,y^i); i=1..n $\n",
    "- space of input values    :- $ X $\n",
    "- space of output values   :- $ Y $"
   ]
  },
  {
   "cell_type": "markdown",
   "id": "champion-muscle",
   "metadata": {},
   "source": [
    "To describe the supervised learning problem slightly more formally, our\n",
    "goal is, given a training set, to learn a function $ h : X → Y $so that h(x) is a\n",
    "“good” predictor for the corresponding value of y. For historical reasons, this\n",
    "function h is called a hypothesis. Seen pictorially, the process is therefore\n",
    "like this:\n",
    "![](my_icons/Supervised/hypothesis.png)"
   ]
  },
  {
   "cell_type": "markdown",
   "id": "hollywood-boating",
   "metadata": {},
   "source": [
    "When the target variable that we’re trying to predict is continuous, such\n",
    "as in our housing example, we call the learning problem a **regression** problem. When y can take on only a small number of discrete values (such as if, given the living area, we wanted to predict if a dwelling is a house or an apartment, say), we call it a **classification** problem."
   ]
  },
  {
   "cell_type": "code",
   "execution_count": null,
   "id": "prompt-cleanup",
   "metadata": {},
   "outputs": [],
   "source": []
  }
 ],
 "metadata": {
  "kernelspec": {
   "display_name": "Python 3",
   "language": "python",
   "name": "python3"
  },
  "language_info": {
   "codemirror_mode": {
    "name": "ipython",
    "version": 3
   },
   "file_extension": ".py",
   "mimetype": "text/x-python",
   "name": "python",
   "nbconvert_exporter": "python",
   "pygments_lexer": "ipython3",
   "version": "3.7.7"
  }
 },
 "nbformat": 4,
 "nbformat_minor": 5
}
